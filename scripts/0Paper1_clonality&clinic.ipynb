{
 "cells": [
  {
   "cell_type": "code",
   "execution_count": 2,
   "id": "8fd64e63-9da3-4b27-be08-b09765c7f2cd",
   "metadata": {},
   "outputs": [],
   "source": [
    "setwd(\"D:/2.crc_trio/results/\")\n",
    "dir=\"D:/2.crc_trio/draft/toZL/Reviewer/\"\n",
    "\n",
    "library(openxlsx)\n",
    "library(dplyr)\n",
    "library(reshape2)\n",
    "\n",
    "library(ggrepel)\n",
    "library(ggplot2)\n",
    "library(ggpubr)\n",
    "library(ggrepel)\n",
    "library(ggsci)\n",
    "library(cowplot)\n",
    "library(ggpmisc)\n",
    "library(ggsignif)"
   ]
  },
  {
   "cell_type": "code",
   "execution_count": 3,
   "id": "342ef1d3-d276-48f5-b659-18757d7f8580",
   "metadata": {},
   "outputs": [],
   "source": [
    "load(file=\"D:/2.crc_trio/draft/toZL/fig4_related/Drivers_v3.RData\")"
   ]
  },
  {
   "cell_type": "code",
   "execution_count": 4,
   "id": "8223a981-c4e0-4486-a5f1-6bd1ccfec9f3",
   "metadata": {},
   "outputs": [],
   "source": [
    "load(file=\"D:/2.crc_trio/draft/toZL/fig4_related/Input_v2.RData\")"
   ]
  },
  {
   "cell_type": "code",
   "execution_count": 5,
   "id": "5ab5a286-b6ba-48c4-9f15-26f38eb209d2",
   "metadata": {},
   "outputs": [
    {
     "data": {
      "text/html": [
       "<style>\n",
       ".list-inline {list-style: none; margin:0; padding: 0}\n",
       ".list-inline>li {display: inline-block}\n",
       ".list-inline>li:not(:last-child)::after {content: \"\\00b7\"; padding: 0 .5ex}\n",
       "</style>\n",
       "<ol class=list-inline><li>'bamdst'</li><li>'cutoff'</li><li>'dat'</li><li>'dir'</li><li>'ls_escc_af'</li><li>'maf_driver_snv_all'</li><li>'Top50_driver'</li><li>'Top50_genedat'</li><li>'Top50_geneMatrix'</li><li>'Top50_genestat'</li><li>'tt'</li></ol>\n"
      ],
      "text/latex": [
       "\\begin{enumerate*}\n",
       "\\item 'bamdst'\n",
       "\\item 'cutoff'\n",
       "\\item 'dat'\n",
       "\\item 'dir'\n",
       "\\item 'ls\\_escc\\_af'\n",
       "\\item 'maf\\_driver\\_snv\\_all'\n",
       "\\item 'Top50\\_driver'\n",
       "\\item 'Top50\\_genedat'\n",
       "\\item 'Top50\\_geneMatrix'\n",
       "\\item 'Top50\\_genestat'\n",
       "\\item 'tt'\n",
       "\\end{enumerate*}\n"
      ],
      "text/markdown": [
       "1. 'bamdst'\n",
       "2. 'cutoff'\n",
       "3. 'dat'\n",
       "4. 'dir'\n",
       "5. 'ls_escc_af'\n",
       "6. 'maf_driver_snv_all'\n",
       "7. 'Top50_driver'\n",
       "8. 'Top50_genedat'\n",
       "9. 'Top50_geneMatrix'\n",
       "10. 'Top50_genestat'\n",
       "11. 'tt'\n",
       "\n",
       "\n"
      ],
      "text/plain": [
       " [1] \"bamdst\"             \"cutoff\"             \"dat\"               \n",
       " [4] \"dir\"                \"ls_escc_af\"         \"maf_driver_snv_all\"\n",
       " [7] \"Top50_driver\"       \"Top50_genedat\"      \"Top50_geneMatrix\"  \n",
       "[10] \"Top50_genestat\"     \"tt\"                "
      ]
     },
     "metadata": {},
     "output_type": "display_data"
    }
   ],
   "source": [
    "ls()"
   ]
  },
  {
   "cell_type": "code",
   "execution_count": 19,
   "id": "de46d2e8-ef96-4740-a6da-efffe473ef63",
   "metadata": {},
   "outputs": [],
   "source": [
    "clin2<-read.xlsx(\"./0.库检/8.肠镜标本病理_HE核对r4toYu.xlsx\",sheet = 1,colNames = T,cols = c(1:20))"
   ]
  },
  {
   "cell_type": "code",
   "execution_count": 20,
   "id": "3f97f266-33dc-4e81-bd01-7df92ecef47a",
   "metadata": {},
   "outputs": [
    {
     "data": {
      "text/html": [
       "<table class=\"dataframe\">\n",
       "<caption>A data.frame: 2 × 5</caption>\n",
       "<thead>\n",
       "\t<tr><th></th><th scope=col>PatientID</th><th scope=col>P_grade_mo</th><th scope=col>P_grade_zhu</th><th scope=col>P_grade</th><th scope=col>P_diameter</th></tr>\n",
       "\t<tr><th></th><th scope=col>&lt;chr&gt;</th><th scope=col>&lt;chr&gt;</th><th scope=col>&lt;chr&gt;</th><th scope=col>&lt;chr&gt;</th><th scope=col>&lt;dbl&gt;</th></tr>\n",
       "</thead>\n",
       "<tbody>\n",
       "\t<tr><th scope=row>126</th><td>B126</td><td>High</td><td>High</td><td>High</td><td>4.5</td></tr>\n",
       "\t<tr><th scope=row>127</th><td>B127</td><td>NA  </td><td>NA  </td><td>NA  </td><td>1.2</td></tr>\n",
       "</tbody>\n",
       "</table>\n"
      ],
      "text/latex": [
       "A data.frame: 2 × 5\n",
       "\\begin{tabular}{r|lllll}\n",
       "  & PatientID & P\\_grade\\_mo & P\\_grade\\_zhu & P\\_grade & P\\_diameter\\\\\n",
       "  & <chr> & <chr> & <chr> & <chr> & <dbl>\\\\\n",
       "\\hline\n",
       "\t126 & B126 & High & High & High & 4.5\\\\\n",
       "\t127 & B127 & NA   & NA   & NA   & 1.2\\\\\n",
       "\\end{tabular}\n"
      ],
      "text/markdown": [
       "\n",
       "A data.frame: 2 × 5\n",
       "\n",
       "| <!--/--> | PatientID &lt;chr&gt; | P_grade_mo &lt;chr&gt; | P_grade_zhu &lt;chr&gt; | P_grade &lt;chr&gt; | P_diameter &lt;dbl&gt; |\n",
       "|---|---|---|---|---|---|\n",
       "| 126 | B126 | High | High | High | 4.5 |\n",
       "| 127 | B127 | NA   | NA   | NA   | 1.2 |\n",
       "\n"
      ],
      "text/plain": [
       "    PatientID P_grade_mo P_grade_zhu P_grade P_diameter\n",
       "126 B126      High       High        High    4.5       \n",
       "127 B127      NA         NA          NA      1.2       "
      ]
     },
     "metadata": {},
     "output_type": "display_data"
    }
   ],
   "source": [
    "clin2 %>% select(PatientID,P_grade_mo,P_grade_zhu,P_grade,P_diameter) %>% tail(n=2)"
   ]
  },
  {
   "cell_type": "code",
   "execution_count": 21,
   "id": "5dcc2709-01ee-4029-abd8-9bfa47f97eb0",
   "metadata": {},
   "outputs": [],
   "source": [
    "p_dat<-dat %>% filter(grepl('P$',Sample))\n",
    "\n",
    "p_dat<-right_join(clin2 %>% select(PatientID,P_grade_mo,P_grade_zhu,P_grade,P_diameter) %>% mutate(P_size=ifelse(is.na(P_diameter),'NA',ifelse(P_diameter<1,'Small','Large')  ) ),\n",
    "                  p_dat,by=c('PatientID'='Patient'))"
   ]
  },
  {
   "cell_type": "code",
   "execution_count": 22,
   "id": "df568b15-2416-4544-9689-b3ae8b1caff1",
   "metadata": {},
   "outputs": [
    {
     "data": {
      "text/html": [
       "<table class=\"dataframe\">\n",
       "<caption>A data.frame: 2 × 60</caption>\n",
       "<thead>\n",
       "\t<tr><th></th><th scope=col>PatientID</th><th scope=col>P_grade_mo</th><th scope=col>P_grade_zhu</th><th scope=col>P_grade</th><th scope=col>P_diameter</th><th scope=col>P_size</th><th scope=col>Sample</th><th scope=col>Clonal</th><th scope=col>Subclonal</th><th scope=col>ClonalSNP</th><th scope=col>...</th><th scope=col>TCRA.tcell.fraction.adj.upr</th><th scope=col>highTcellFlag</th><th scope=col>AMP</th><th scope=col>DEL</th><th scope=col>FLA</th><th scope=col>Age</th><th scope=col>Lineage</th><th scope=col>wGII</th><th scope=col>CIN_status</th><th scope=col>Clonal_CCF_Mean</th></tr>\n",
       "\t<tr><th></th><th scope=col>&lt;chr&gt;</th><th scope=col>&lt;chr&gt;</th><th scope=col>&lt;chr&gt;</th><th scope=col>&lt;chr&gt;</th><th scope=col>&lt;dbl&gt;</th><th scope=col>&lt;chr&gt;</th><th scope=col>&lt;chr&gt;</th><th scope=col>&lt;int&gt;</th><th scope=col>&lt;int&gt;</th><th scope=col>&lt;int&gt;</th><th scope=col>...</th><th scope=col>&lt;dbl&gt;</th><th scope=col>&lt;lgl&gt;</th><th scope=col>&lt;dbl&gt;</th><th scope=col>&lt;dbl&gt;</th><th scope=col>&lt;dbl&gt;</th><th scope=col>&lt;dbl&gt;</th><th scope=col>&lt;chr&gt;</th><th scope=col>&lt;dbl&gt;</th><th scope=col>&lt;chr&gt;</th><th scope=col>&lt;dbl&gt;</th></tr>\n",
       "</thead>\n",
       "<tbody>\n",
       "\t<tr><th scope=row>1</th><td>B001</td><td>Low </td><td>High</td><td>High</td><td>1.15</td><td>Large</td><td>B001P</td><td>  0</td><td>189</td><td>  0</td><td>...</td><td>0.341</td><td>FALSE</td><td> 0.06</td><td>0.28</td><td> 0.34</td><td>51</td><td>Polyclonal</td><td> 0.2918182</td><td>CIN-</td><td> NaN</td></tr>\n",
       "\t<tr><th scope=row>2</th><td>B002</td><td>High</td><td>High</td><td>High</td><td>2.25</td><td>Large</td><td>B002P</td><td>146</td><td> 70</td><td>132</td><td>...</td><td>0.274</td><td>FALSE</td><td>10.35</td><td>6.41</td><td>16.76</td><td>70</td><td>Monoclonal</td><td>23.2695455</td><td>CIN+</td><td>1.04</td></tr>\n",
       "</tbody>\n",
       "</table>\n"
      ],
      "text/latex": [
       "A data.frame: 2 × 60\n",
       "\\begin{tabular}{r|lllllllllllllllllllll}\n",
       "  & PatientID & P\\_grade\\_mo & P\\_grade\\_zhu & P\\_grade & P\\_diameter & P\\_size & Sample & Clonal & Subclonal & ClonalSNP & ... & TCRA.tcell.fraction.adj.upr & highTcellFlag & AMP & DEL & FLA & Age & Lineage & wGII & CIN\\_status & Clonal\\_CCF\\_Mean\\\\\n",
       "  & <chr> & <chr> & <chr> & <chr> & <dbl> & <chr> & <chr> & <int> & <int> & <int> & ... & <dbl> & <lgl> & <dbl> & <dbl> & <dbl> & <dbl> & <chr> & <dbl> & <chr> & <dbl>\\\\\n",
       "\\hline\n",
       "\t1 & B001 & Low  & High & High & 1.15 & Large & B001P &   0 & 189 &   0 & ... & 0.341 & FALSE &  0.06 & 0.28 &  0.34 & 51 & Polyclonal &  0.2918182 & CIN- &  NaN\\\\\n",
       "\t2 & B002 & High & High & High & 2.25 & Large & B002P & 146 &  70 & 132 & ... & 0.274 & FALSE & 10.35 & 6.41 & 16.76 & 70 & Monoclonal & 23.2695455 & CIN+ & 1.04\\\\\n",
       "\\end{tabular}\n"
      ],
      "text/markdown": [
       "\n",
       "A data.frame: 2 × 60\n",
       "\n",
       "| <!--/--> | PatientID &lt;chr&gt; | P_grade_mo &lt;chr&gt; | P_grade_zhu &lt;chr&gt; | P_grade &lt;chr&gt; | P_diameter &lt;dbl&gt; | P_size &lt;chr&gt; | Sample &lt;chr&gt; | Clonal &lt;int&gt; | Subclonal &lt;int&gt; | ClonalSNP &lt;int&gt; | ... ... | TCRA.tcell.fraction.adj.upr &lt;dbl&gt; | highTcellFlag &lt;lgl&gt; | AMP &lt;dbl&gt; | DEL &lt;dbl&gt; | FLA &lt;dbl&gt; | Age &lt;dbl&gt; | Lineage &lt;chr&gt; | wGII &lt;dbl&gt; | CIN_status &lt;chr&gt; | Clonal_CCF_Mean &lt;dbl&gt; |\n",
       "|---|---|---|---|---|---|---|---|---|---|---|---|---|---|---|---|---|---|---|---|---|---|\n",
       "| 1 | B001 | Low  | High | High | 1.15 | Large | B001P |   0 | 189 |   0 | ... | 0.341 | FALSE |  0.06 | 0.28 |  0.34 | 51 | Polyclonal |  0.2918182 | CIN- |  NaN |\n",
       "| 2 | B002 | High | High | High | 2.25 | Large | B002P | 146 |  70 | 132 | ... | 0.274 | FALSE | 10.35 | 6.41 | 16.76 | 70 | Monoclonal | 23.2695455 | CIN+ | 1.04 |\n",
       "\n"
      ],
      "text/plain": [
       "  PatientID P_grade_mo P_grade_zhu P_grade P_diameter P_size Sample Clonal\n",
       "1 B001      Low        High        High    1.15       Large  B001P    0   \n",
       "2 B002      High       High        High    2.25       Large  B002P  146   \n",
       "  Subclonal ClonalSNP ... TCRA.tcell.fraction.adj.upr highTcellFlag AMP   DEL \n",
       "1 189         0       ... 0.341                       FALSE          0.06 0.28\n",
       "2  70       132       ... 0.274                       FALSE         10.35 6.41\n",
       "  FLA   Age Lineage    wGII       CIN_status Clonal_CCF_Mean\n",
       "1  0.34 51  Polyclonal  0.2918182 CIN-        NaN           \n",
       "2 16.76 70  Monoclonal 23.2695455 CIN+       1.04           "
      ]
     },
     "metadata": {},
     "output_type": "display_data"
    }
   ],
   "source": [
    "p_dat %>% head(n=2)"
   ]
  },
  {
   "cell_type": "code",
   "execution_count": 23,
   "id": "c1f395c2-5c7a-4a6b-b29a-fb24712c870d",
   "metadata": {},
   "outputs": [
    {
     "data": {
      "text/html": [
       "<style>\n",
       ".list-inline {list-style: none; margin:0; padding: 0}\n",
       ".list-inline>li {display: inline-block}\n",
       ".list-inline>li:not(:last-child)::after {content: \"\\00b7\"; padding: 0 .5ex}\n",
       "</style>\n",
       "<ol class=list-inline><li>'PatientID'</li><li>'P_grade_mo'</li><li>'P_grade_zhu'</li><li>'P_grade'</li><li>'P_diameter'</li><li>'P_size'</li><li>'Sample'</li><li>'Clonal'</li><li>'Subclonal'</li><li>'ClonalSNP'</li><li>'SubclonalSNP'</li><li>'Frame_Shift_Del'</li><li>'Frame_Shift_Ins'</li><li>'In_Frame_Del'</li><li>'In_Frame_Ins'</li><li>'Missense_Mutation'</li><li>'Nonsense_Mutation'</li><li>'Nonstop_Mutation'</li><li>'Splice_Site'</li><li>'Translation_Start_Site'</li><li>'total_nonsilent'</li><li>'NonSilent_SNV'</li><li>'total_SNP'</li><li>'total_DEL'</li><li>'total_INS'</li><li>'total_MNP'</li><li>'TMB'</li><li>'derived'</li><li>'ClonalDriver'</li><li>'SubDriver'</li><li>'TotalDriver'</li><li>'Total_Number_of_Sites'</li><li>'Number_of_Somatic_Sites'</li><li>'MSIscore'</li><li>'MSItype'</li><li>'dmmr'</li><li>'HLA_Loss'</li><li>'HLA_Loss_Allele_Counts'</li><li>'purity'</li><li>'ploidy'</li><li>'depth'</li><li>'neo_clonal'</li><li>'neo_subclonal'</li><li>'neo_clonal_ccf'</li><li>'TCRA.cn'</li><li>'TCRA.tcell.fraction'</li><li>'TCRA.tcell.fraction.lwr'</li><li>'TCRA.tcell.fraction.upr'</li><li>'TCRA.tcell.fraction.adj'</li><li>'TCRA.tcell.fraction.adj.lwr'</li><li>'TCRA.tcell.fraction.adj.upr'</li><li>'highTcellFlag'</li><li>'AMP'</li><li>'DEL'</li><li>'FLA'</li><li>'Age'</li><li>'Lineage'</li><li>'wGII'</li><li>'CIN_status'</li><li>'Clonal_CCF_Mean'</li></ol>\n"
      ],
      "text/latex": [
       "\\begin{enumerate*}\n",
       "\\item 'PatientID'\n",
       "\\item 'P\\_grade\\_mo'\n",
       "\\item 'P\\_grade\\_zhu'\n",
       "\\item 'P\\_grade'\n",
       "\\item 'P\\_diameter'\n",
       "\\item 'P\\_size'\n",
       "\\item 'Sample'\n",
       "\\item 'Clonal'\n",
       "\\item 'Subclonal'\n",
       "\\item 'ClonalSNP'\n",
       "\\item 'SubclonalSNP'\n",
       "\\item 'Frame\\_Shift\\_Del'\n",
       "\\item 'Frame\\_Shift\\_Ins'\n",
       "\\item 'In\\_Frame\\_Del'\n",
       "\\item 'In\\_Frame\\_Ins'\n",
       "\\item 'Missense\\_Mutation'\n",
       "\\item 'Nonsense\\_Mutation'\n",
       "\\item 'Nonstop\\_Mutation'\n",
       "\\item 'Splice\\_Site'\n",
       "\\item 'Translation\\_Start\\_Site'\n",
       "\\item 'total\\_nonsilent'\n",
       "\\item 'NonSilent\\_SNV'\n",
       "\\item 'total\\_SNP'\n",
       "\\item 'total\\_DEL'\n",
       "\\item 'total\\_INS'\n",
       "\\item 'total\\_MNP'\n",
       "\\item 'TMB'\n",
       "\\item 'derived'\n",
       "\\item 'ClonalDriver'\n",
       "\\item 'SubDriver'\n",
       "\\item 'TotalDriver'\n",
       "\\item 'Total\\_Number\\_of\\_Sites'\n",
       "\\item 'Number\\_of\\_Somatic\\_Sites'\n",
       "\\item 'MSIscore'\n",
       "\\item 'MSItype'\n",
       "\\item 'dmmr'\n",
       "\\item 'HLA\\_Loss'\n",
       "\\item 'HLA\\_Loss\\_Allele\\_Counts'\n",
       "\\item 'purity'\n",
       "\\item 'ploidy'\n",
       "\\item 'depth'\n",
       "\\item 'neo\\_clonal'\n",
       "\\item 'neo\\_subclonal'\n",
       "\\item 'neo\\_clonal\\_ccf'\n",
       "\\item 'TCRA.cn'\n",
       "\\item 'TCRA.tcell.fraction'\n",
       "\\item 'TCRA.tcell.fraction.lwr'\n",
       "\\item 'TCRA.tcell.fraction.upr'\n",
       "\\item 'TCRA.tcell.fraction.adj'\n",
       "\\item 'TCRA.tcell.fraction.adj.lwr'\n",
       "\\item 'TCRA.tcell.fraction.adj.upr'\n",
       "\\item 'highTcellFlag'\n",
       "\\item 'AMP'\n",
       "\\item 'DEL'\n",
       "\\item 'FLA'\n",
       "\\item 'Age'\n",
       "\\item 'Lineage'\n",
       "\\item 'wGII'\n",
       "\\item 'CIN\\_status'\n",
       "\\item 'Clonal\\_CCF\\_Mean'\n",
       "\\end{enumerate*}\n"
      ],
      "text/markdown": [
       "1. 'PatientID'\n",
       "2. 'P_grade_mo'\n",
       "3. 'P_grade_zhu'\n",
       "4. 'P_grade'\n",
       "5. 'P_diameter'\n",
       "6. 'P_size'\n",
       "7. 'Sample'\n",
       "8. 'Clonal'\n",
       "9. 'Subclonal'\n",
       "10. 'ClonalSNP'\n",
       "11. 'SubclonalSNP'\n",
       "12. 'Frame_Shift_Del'\n",
       "13. 'Frame_Shift_Ins'\n",
       "14. 'In_Frame_Del'\n",
       "15. 'In_Frame_Ins'\n",
       "16. 'Missense_Mutation'\n",
       "17. 'Nonsense_Mutation'\n",
       "18. 'Nonstop_Mutation'\n",
       "19. 'Splice_Site'\n",
       "20. 'Translation_Start_Site'\n",
       "21. 'total_nonsilent'\n",
       "22. 'NonSilent_SNV'\n",
       "23. 'total_SNP'\n",
       "24. 'total_DEL'\n",
       "25. 'total_INS'\n",
       "26. 'total_MNP'\n",
       "27. 'TMB'\n",
       "28. 'derived'\n",
       "29. 'ClonalDriver'\n",
       "30. 'SubDriver'\n",
       "31. 'TotalDriver'\n",
       "32. 'Total_Number_of_Sites'\n",
       "33. 'Number_of_Somatic_Sites'\n",
       "34. 'MSIscore'\n",
       "35. 'MSItype'\n",
       "36. 'dmmr'\n",
       "37. 'HLA_Loss'\n",
       "38. 'HLA_Loss_Allele_Counts'\n",
       "39. 'purity'\n",
       "40. 'ploidy'\n",
       "41. 'depth'\n",
       "42. 'neo_clonal'\n",
       "43. 'neo_subclonal'\n",
       "44. 'neo_clonal_ccf'\n",
       "45. 'TCRA.cn'\n",
       "46. 'TCRA.tcell.fraction'\n",
       "47. 'TCRA.tcell.fraction.lwr'\n",
       "48. 'TCRA.tcell.fraction.upr'\n",
       "49. 'TCRA.tcell.fraction.adj'\n",
       "50. 'TCRA.tcell.fraction.adj.lwr'\n",
       "51. 'TCRA.tcell.fraction.adj.upr'\n",
       "52. 'highTcellFlag'\n",
       "53. 'AMP'\n",
       "54. 'DEL'\n",
       "55. 'FLA'\n",
       "56. 'Age'\n",
       "57. 'Lineage'\n",
       "58. 'wGII'\n",
       "59. 'CIN_status'\n",
       "60. 'Clonal_CCF_Mean'\n",
       "\n",
       "\n"
      ],
      "text/plain": [
       " [1] \"PatientID\"                   \"P_grade_mo\"                 \n",
       " [3] \"P_grade_zhu\"                 \"P_grade\"                    \n",
       " [5] \"P_diameter\"                  \"P_size\"                     \n",
       " [7] \"Sample\"                      \"Clonal\"                     \n",
       " [9] \"Subclonal\"                   \"ClonalSNP\"                  \n",
       "[11] \"SubclonalSNP\"                \"Frame_Shift_Del\"            \n",
       "[13] \"Frame_Shift_Ins\"             \"In_Frame_Del\"               \n",
       "[15] \"In_Frame_Ins\"                \"Missense_Mutation\"          \n",
       "[17] \"Nonsense_Mutation\"           \"Nonstop_Mutation\"           \n",
       "[19] \"Splice_Site\"                 \"Translation_Start_Site\"     \n",
       "[21] \"total_nonsilent\"             \"NonSilent_SNV\"              \n",
       "[23] \"total_SNP\"                   \"total_DEL\"                  \n",
       "[25] \"total_INS\"                   \"total_MNP\"                  \n",
       "[27] \"TMB\"                         \"derived\"                    \n",
       "[29] \"ClonalDriver\"                \"SubDriver\"                  \n",
       "[31] \"TotalDriver\"                 \"Total_Number_of_Sites\"      \n",
       "[33] \"Number_of_Somatic_Sites\"     \"MSIscore\"                   \n",
       "[35] \"MSItype\"                     \"dmmr\"                       \n",
       "[37] \"HLA_Loss\"                    \"HLA_Loss_Allele_Counts\"     \n",
       "[39] \"purity\"                      \"ploidy\"                     \n",
       "[41] \"depth\"                       \"neo_clonal\"                 \n",
       "[43] \"neo_subclonal\"               \"neo_clonal_ccf\"             \n",
       "[45] \"TCRA.cn\"                     \"TCRA.tcell.fraction\"        \n",
       "[47] \"TCRA.tcell.fraction.lwr\"     \"TCRA.tcell.fraction.upr\"    \n",
       "[49] \"TCRA.tcell.fraction.adj\"     \"TCRA.tcell.fraction.adj.lwr\"\n",
       "[51] \"TCRA.tcell.fraction.adj.upr\" \"highTcellFlag\"              \n",
       "[53] \"AMP\"                         \"DEL\"                        \n",
       "[55] \"FLA\"                         \"Age\"                        \n",
       "[57] \"Lineage\"                     \"wGII\"                       \n",
       "[59] \"CIN_status\"                  \"Clonal_CCF_Mean\"            "
      ]
     },
     "metadata": {},
     "output_type": "display_data"
    }
   ],
   "source": [
    "p_dat %>% colnames()"
   ]
  },
  {
   "cell_type": "code",
   "execution_count": 24,
   "id": "6ca92726-cd4c-490d-ae68-d3f66de523a3",
   "metadata": {},
   "outputs": [],
   "source": [
    "mytheme1= theme_bw()+theme(panel.grid = element_blank(),\n",
    "                   panel.border= element_blank(),\n",
    "                   plot.title = element_text(hjust = 0.5))+\n",
    "  theme(legend.position = \"right\",\n",
    "        legend.title  = element_text(size=8),\n",
    "        legend.text = element_text(size=8),\n",
    "        legend.key.size =unit(0.2,'cm') ) +\n",
    "  theme(axis.text = element_text(size=10,colour = \"black\"),\n",
    "        axis.ticks = element_line(size=0.5),\n",
    "        axis.title = element_text(size=12,colour = \"black\"),\n",
    "        axis.line = element_line(colour = \"black\",size=0.5)\n",
    "  )"
   ]
  },
  {
   "cell_type": "code",
   "execution_count": 25,
   "id": "e999a806-9ebb-4619-bbf0-f36a8768b556",
   "metadata": {},
   "outputs": [],
   "source": [
    "mytheme=theme(panel.grid = element_blank(),\n",
    "        panel.background = element_blank(),\n",
    "        legend.position =\"none\",\n",
    "        legend.text = element_text(size = 8, colour = 'black'),\n",
    "        axis.line = element_line(color = 'black',size = 0.5),\n",
    "        axis.text = element_text(size = 10, colour = 'black'),\n",
    "        axis.ticks = element_line(size=0.5),\n",
    "        axis.title = element_text(size = 12, colour = 'black'),\n",
    "        strip.background = element_blank(),\n",
    "        strip.text.x = element_text(size=10,colour = \"black\",face = \"bold.italic\")\n",
    "  )"
   ]
  },
  {
   "cell_type": "code",
   "execution_count": 26,
   "id": "43021589-f090-4caa-a0ae-27118cf4f628",
   "metadata": {},
   "outputs": [
    {
     "data": {
      "text/html": [
       "<table class=\"dataframe\">\n",
       "<caption>A data.frame: 4 × 3</caption>\n",
       "<thead>\n",
       "\t<tr><th scope=col>P_size</th><th scope=col>Lineage</th><th scope=col>Sample</th></tr>\n",
       "\t<tr><th scope=col>&lt;chr&gt;</th><th scope=col>&lt;chr&gt;</th><th scope=col>&lt;int&gt;</th></tr>\n",
       "</thead>\n",
       "<tbody>\n",
       "\t<tr><td>Large</td><td>P_mono</td><td>48</td></tr>\n",
       "\t<tr><td>Large</td><td>P_poly</td><td>10</td></tr>\n",
       "\t<tr><td>Small</td><td>P_mono</td><td>19</td></tr>\n",
       "\t<tr><td>Small</td><td>P_poly</td><td>19</td></tr>\n",
       "</tbody>\n",
       "</table>\n"
      ],
      "text/latex": [
       "A data.frame: 4 × 3\n",
       "\\begin{tabular}{lll}\n",
       " P\\_size & Lineage & Sample\\\\\n",
       " <chr> & <chr> & <int>\\\\\n",
       "\\hline\n",
       "\t Large & P\\_mono & 48\\\\\n",
       "\t Large & P\\_poly & 10\\\\\n",
       "\t Small & P\\_mono & 19\\\\\n",
       "\t Small & P\\_poly & 19\\\\\n",
       "\\end{tabular}\n"
      ],
      "text/markdown": [
       "\n",
       "A data.frame: 4 × 3\n",
       "\n",
       "| P_size &lt;chr&gt; | Lineage &lt;chr&gt; | Sample &lt;int&gt; |\n",
       "|---|---|---|\n",
       "| Large | P_mono | 48 |\n",
       "| Large | P_poly | 10 |\n",
       "| Small | P_mono | 19 |\n",
       "| Small | P_poly | 19 |\n",
       "\n"
      ],
      "text/plain": [
       "  P_size Lineage Sample\n",
       "1 Large  P_mono  48    \n",
       "2 Large  P_poly  10    \n",
       "3 Small  P_mono  19    \n",
       "4 Small  P_poly  19    "
      ]
     },
     "metadata": {},
     "output_type": "display_data"
    },
    {
     "data": {
      "text/plain": [
       "\n",
       "\tFisher's Exact Test for Count Data\n",
       "\n",
       "data:  t(matrix(p_size_count$Sample, nrow = 2))\n",
       "p-value = 0.001222\n",
       "alternative hypothesis: true odds ratio is not equal to 1\n",
       "95 percent confidence interval:\n",
       "  1.723648 13.663457\n",
       "sample estimates:\n",
       "odds ratio \n",
       "  4.712371 \n"
      ]
     },
     "metadata": {},
     "output_type": "display_data"
    }
   ],
   "source": [
    "p_size_count=p_dat %>% filter(purity>=0.25) %>% mutate(Lineage=ifelse(grepl('Monoclonal',Lineage),'P_mono','P_poly')) %>% \n",
    "           group_by(P_size,Lineage) %>% count %>% as.data.frame %>% rename(c(\"Sample\"=\"n\")) %>% filter(grepl('Large|Small',P_size))\n",
    "p_size_count\n",
    "pVal<-fisher.test(t(matrix(p_size_count$Sample,nrow = 2)))\n",
    "pVal\n",
    "\n",
    "g1_1=p_dat %>% filter(purity>=0.25) %>% mutate(Lineage=ifelse(grepl('Monoclonal',Lineage),'P_mono','P_poly')) %>% \n",
    "group_by(P_size,Lineage) %>% count %>% as.data.frame %>% rename(c(\"Sample\"=\"n\")) %>% filter(grepl('Large|Small',P_size)) %>%\n",
    "ggbarplot(x = \"P_size\",y = \"Sample\",label = TRUE,lab.pos = \"in\",lab.col = 'white' ,xlab = \"\",fill = \"Lineage\",color = 'white',alpha=0.8)+\n",
    "  scale_fill_lancet()+ylab(\"No.samples\")+xlab('Polyp size')+\n",
    "  stat_signif(comparisons = list(c(\"Large\",\"Small\")),annotations =signif(pVal$p.value,3) ,y_position = 60)+ mytheme1+guides(fill = guide_legend(title = \"Clonality\"))"
   ]
  },
  {
   "cell_type": "code",
   "execution_count": 27,
   "id": "228f36c8-5d9e-4098-af87-218bcba8a0c9",
   "metadata": {},
   "outputs": [
    {
     "data": {
      "image/png": "[encoded data removed]",
      "text/plain": [
       "plot without title"
      ]
     },
     "metadata": {
      "image/png": {
       "height": 420,
       "width": 420
      }
     },
     "output_type": "display_data"
    }
   ],
   "source": [
    "print(g1_1)"
   ]
  },
  {
   "cell_type": "code",
   "execution_count": 28,
   "id": "986305b1-8b83-435b-9b8b-2ccde1c7433a",
   "metadata": {},
   "outputs": [
    {
     "data": {
      "text/html": [
       "<table class=\"dataframe\">\n",
       "<caption>A data.frame: 4 × 3</caption>\n",
       "<thead>\n",
       "\t<tr><th scope=col>P_grade</th><th scope=col>Lineage</th><th scope=col>Sample</th></tr>\n",
       "\t<tr><th scope=col>&lt;chr&gt;</th><th scope=col>&lt;chr&gt;</th><th scope=col>&lt;int&gt;</th></tr>\n",
       "</thead>\n",
       "<tbody>\n",
       "\t<tr><td>High</td><td>P_mono</td><td>44</td></tr>\n",
       "\t<tr><td>High</td><td>P_poly</td><td> 7</td></tr>\n",
       "\t<tr><td>Low </td><td>P_mono</td><td>22</td></tr>\n",
       "\t<tr><td>Low </td><td>P_poly</td><td>22</td></tr>\n",
       "</tbody>\n",
       "</table>\n"
      ],
      "text/latex": [
       "A data.frame: 4 × 3\n",
       "\\begin{tabular}{lll}\n",
       " P\\_grade & Lineage & Sample\\\\\n",
       " <chr> & <chr> & <int>\\\\\n",
       "\\hline\n",
       "\t High & P\\_mono & 44\\\\\n",
       "\t High & P\\_poly &  7\\\\\n",
       "\t Low  & P\\_mono & 22\\\\\n",
       "\t Low  & P\\_poly & 22\\\\\n",
       "\\end{tabular}\n"
      ],
      "text/markdown": [
       "\n",
       "A data.frame: 4 × 3\n",
       "\n",
       "| P_grade &lt;chr&gt; | Lineage &lt;chr&gt; | Sample &lt;int&gt; |\n",
       "|---|---|---|\n",
       "| High | P_mono | 44 |\n",
       "| High | P_poly |  7 |\n",
       "| Low  | P_mono | 22 |\n",
       "| Low  | P_poly | 22 |\n",
       "\n"
      ],
      "text/plain": [
       "  P_grade Lineage Sample\n",
       "1 High    P_mono  44    \n",
       "2 High    P_poly   7    \n",
       "3 Low     P_mono  22    \n",
       "4 Low     P_poly  22    "
      ]
     },
     "metadata": {},
     "output_type": "display_data"
    },
    {
     "data": {
      "text/plain": [
       "\n",
       "\tFisher's Exact Test for Count Data\n",
       "\n",
       "data:  t(matrix(p_grade_count$Sample, nrow = 2))\n",
       "p-value = 0.0001498\n",
       "alternative hypothesis: true odds ratio is not equal to 1\n",
       "95 percent confidence interval:\n",
       "  2.137548 19.827427\n",
       "sample estimates:\n",
       "odds ratio \n",
       "  6.153513 \n"
      ]
     },
     "metadata": {},
     "output_type": "display_data"
    }
   ],
   "source": [
    "p_grade_count=p_dat %>% filter(purity>=0.25) %>% mutate(Lineage=ifelse(grepl('Monoclonal',Lineage),'P_mono','P_poly')) %>% \n",
    "             group_by(P_grade,Lineage) %>% count %>% as.data.frame %>% rename(c(\"Sample\"=\"n\")) %>% filter(grepl('High|Low',P_grade))\n",
    "p_grade_count\n",
    "pVal<-fisher.test(t(matrix(p_grade_count$Sample,nrow = 2)))\n",
    "pVal\n",
    "\n",
    "g2_1=p_dat %>% filter(purity>=0.25) %>% mutate(Lineage=ifelse(grepl('Monoclonal',Lineage),'P_mono','P_poly')) %>% \n",
    "group_by(P_grade,Lineage) %>% count %>% as.data.frame %>% rename(c(\"Sample\"=\"n\")) %>% filter(grepl('High|Low',P_grade)) %>%\n",
    "ggbarplot(x = \"P_grade\",y = \"Sample\",label = TRUE,lab.pos = \"in\",lab.col = 'white' ,xlab = \"\",fill = \"Lineage\",color = 'white',alpha=0.8)+\n",
    "  scale_fill_lancet()+ylab(\"No.samples\")+xlab('Polyp grade')+\n",
    "  stat_signif(comparisons = list(c(\"High\",\"Low\")),annotations =signif(pVal$p.value,3) ,y_position = 51)+\n",
    "  mytheme1+guides(fill = guide_legend(title = \"Clonality\"))"
   ]
  },
  {
   "cell_type": "code",
   "execution_count": 29,
   "id": "a96b0711-6e1f-4c21-8174-2e385a4dd346",
   "metadata": {},
   "outputs": [
    {
     "data": {
      "image/png": "[encoded data removed]",
      "text/plain": [
       "plot without title"
      ]
     },
     "metadata": {
      "image/png": {
       "height": 420,
       "width": 420
      }
     },
     "output_type": "display_data"
    }
   ],
   "source": [
    "print(g2_1)"
   ]
  },
  {
   "cell_type": "code",
   "execution_count": null,
   "id": "751f549c-cbc2-4c25-bc24-15417c91541e",
   "metadata": {},
   "outputs": [],
   "source": []
  }
 ],
 "metadata": {
  "kernelspec": {
   "display_name": "R",
   "language": "R",
   "name": "ir"
  },
  "language_info": {
   "codemirror_mode": "r",
   "file_extension": ".r",
   "mimetype": "text/x-r-source",
   "name": "R",
   "pygments_lexer": "r",
   "version": "4.1.0"
  }
 },
 "nbformat": 4,
 "nbformat_minor": 5
}
