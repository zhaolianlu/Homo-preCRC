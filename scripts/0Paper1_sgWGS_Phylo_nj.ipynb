{
 "cells": [
  {
   "cell_type": "code",
   "execution_count": 1,
   "id": "a9dcee24-1f8a-4a6b-a9d7-d4dfbdf678ef",
   "metadata": {},
   "outputs": [],
   "source": [
    "from Bio import AlignIO, Phylo\n",
    "from Bio.Phylo.TreeConstruction import DistanceCalculator, DistanceTreeConstructor"
   ]
  },
  {
   "cell_type": "code",
   "execution_count": null,
   "id": "fe9b5ff7-6c15-4d45-847c-de22962d2590",
   "metadata": {},
   "outputs": [],
   "source": [
    "TREEDIR=\"/data/shanlan/crc_trio/1.sub_analysis/runtime/2.sgWGS/tree/\"\n",
    "PHYDIR=OUTDIR=TREEDIR\n",
    "samples=['FAP03P2_SNP_vd7_vr4','B139_SNP_vd7_vr4']\n",
    "\n",
    "\"\"\"\n",
    "NJ tree based on the distance of mutation distribution among different samples.\n",
    "!!! This step was done by Phylo.TreeConstrunction.\n",
    "construnct snv tree for each samples\n",
    "\"\"\"\n",
    "for mySample in samples:\n",
    "    print(mySample)\n",
    "    alignment = AlignIO.read(PHYDIR + mySample+\".fa\", \"fasta\") # Load the alignment from a Phylip file \n",
    "    calculator = DistanceCalculator('identity') # Calculate the distance matrix\n",
    "    distance_matrix = calculator.get_distance(alignment)\n",
    "    constructor = DistanceTreeConstructor() # Create a DistanceTreeConstructor object\n",
    "    tree = constructor.nj(distance_matrix) # Build the tree using the neighbor-joining method\n",
    "    # Root the tree at the specified outgroup\n",
    "    try:\n",
    "        tree.root_with_outgroup(\"ref\")\n",
    "        print(\"Tree has been successfully re-rooted using 'ref' as the outgroup.\")\n",
    "    except ValueError as e:\n",
    "        print(f\"Error rooting the tree with specified outgroup 'ref': {e}\")\n",
    "    # Optionally, save the rooted tree to a Newick file\n",
    "    with open(OUTDIR+mySample+\".nj.nwk\", \"w\") as output:\n",
    "        Phylo.write(tree, output, \"newick\")\n"
   ]
  },
  {
   "cell_type": "code",
   "execution_count": null,
   "id": "599f514f-4b80-4264-9533-9ddcb9e6cd93",
   "metadata": {},
   "outputs": [],
   "source": []
  },
  {
   "cell_type": "code",
   "execution_count": null,
   "id": "3a6fa10e-2f3e-45af-b070-c44a9ea71279",
   "metadata": {},
   "outputs": [],
   "source": [
    "from ete3 import Tree\n",
    "# from ete3 import TreeStyle\n",
    "import os\n",
    "import matplotlib as plt\n",
    "from Bio import Phylo\n",
    "import numpy as np\n",
    "import pandas as pd\n",
    "# import matplotlib.pyplot as plt\n",
    "from sklearn.linear_model import LinearRegression"
   ]
  },
  {
   "cell_type": "code",
   "execution_count": null,
   "id": "9b426202-dd3c-4f53-9e51-6b8227602f90",
   "metadata": {},
   "outputs": [],
   "source": [
    "\"\"\"\n",
    "!!! This step was done after iqtree/phylo tree reconstruction.\n",
    "rescale tree branch length in mutation numbers\n",
    "\"\"\"\n",
    "for mySample in samples:\n",
    "    print(mySample)\n",
    "    mut_nums = pd.read_csv(PHYDIR + mySample+\".phy\", delimiter = \" \", skiprows=1,header = None, names = [\"name\",\"bi\"], index_col=0)\n",
    "    mut_nums[\"numMuts\"] = [mut_nums[\"bi\"][i].count(\"1\") for i in range(mut_nums.shape[0])]\n",
    "    tree = Phylo.read(TREEDIR+mySample+\".nj\"+\".nwk\", \"newick\") # from phylo\n",
    "    tree_depths = tree.depths()\n",
    "    depths = []\n",
    "    mutations = []\n",
    "    for i in tree_depths:\n",
    "        if i.name in mut_nums.index:\n",
    "            depths.append(tree_depths[i])\n",
    "            mutations.append(mut_nums.loc[i.name].numMuts)\n",
    "    depths = np.array(depths)\n",
    "    mutations = np.array(mutations)\n",
    "    print(mutations)\n",
    "\n",
    "    reg = LinearRegression(fit_intercept=False).fit(depths.reshape(-1,1), mutations)\n",
    "    scale = reg.coef_[0]\n",
    "    #scale=59242 #unique mutations across all samples\n",
    "    print(scale)\n",
    "\n",
    "    for clade in tree.get_terminals():\n",
    "        clade.branch_length = float(scale * clade.branch_length)\n",
    "    for clade in tree.get_nonterminals()[1:]:\n",
    "        clade.branch_length = float(scale * clade.branch_length)\n",
    "\n",
    "    Phylo.write(tree, OUTDIR+mySample+\".nj_rescale.nwk\",\"newick\") # from phylo ,nj\n"
   ]
  }
 ],
 "metadata": {
  "kernelspec": {
   "display_name": "Python 3 (ipykernel)",
   "language": "python",
   "name": "python3"
  },
  "language_info": {
   "codemirror_mode": {
    "name": "ipython",
    "version": 3
   },
   "file_extension": ".py",
   "mimetype": "text/x-python",
   "name": "python",
   "nbconvert_exporter": "python",
   "pygments_lexer": "ipython3",
   "version": "3.9.5"
  }
 },
 "nbformat": 4,
 "nbformat_minor": 5
}
